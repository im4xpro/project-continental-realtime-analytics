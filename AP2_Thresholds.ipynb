{
 "cells": [
  {
   "cell_type": "code",
   "execution_count": 2,
   "metadata": {},
   "outputs": [
    {
     "data": {
      "text/html": [
       "<div>\n",
       "<style scoped>\n",
       "    .dataframe tbody tr th:only-of-type {\n",
       "        vertical-align: middle;\n",
       "    }\n",
       "\n",
       "    .dataframe tbody tr th {\n",
       "        vertical-align: top;\n",
       "    }\n",
       "\n",
       "    .dataframe thead th {\n",
       "        text-align: right;\n",
       "    }\n",
       "</style>\n",
       "<table border=\"1\" class=\"dataframe\">\n",
       "  <thead>\n",
       "    <tr style=\"text-align: right;\">\n",
       "      <th></th>\n",
       "      <th>StationName</th>\n",
       "      <th>ItemNumber</th>\n",
       "      <th>ProcessTime</th>\n",
       "      <th>TimeStamp</th>\n",
       "    </tr>\n",
       "  </thead>\n",
       "  <tbody>\n",
       "    <tr>\n",
       "      <th>0</th>\n",
       "      <td>StationName6</td>\n",
       "      <td>10</td>\n",
       "      <td>0.202</td>\n",
       "      <td>2024-10-23 17:19:37.111000+02:00</td>\n",
       "    </tr>\n",
       "    <tr>\n",
       "      <th>1</th>\n",
       "      <td>StationName1</td>\n",
       "      <td>1</td>\n",
       "      <td>0.181</td>\n",
       "      <td>2024-10-23 17:19:37.079000+02:00</td>\n",
       "    </tr>\n",
       "    <tr>\n",
       "      <th>2</th>\n",
       "      <td>StationName1</td>\n",
       "      <td>14</td>\n",
       "      <td>0.130</td>\n",
       "      <td>2024-10-23 17:19:37.079000+02:00</td>\n",
       "    </tr>\n",
       "    <tr>\n",
       "      <th>3</th>\n",
       "      <td>StationName6</td>\n",
       "      <td>20</td>\n",
       "      <td>0.540</td>\n",
       "      <td>2024-10-23 17:19:37.111000+02:00</td>\n",
       "    </tr>\n",
       "    <tr>\n",
       "      <th>4</th>\n",
       "      <td>StationName9</td>\n",
       "      <td>27</td>\n",
       "      <td>0.110</td>\n",
       "      <td>2024-10-23 17:19:37.637000+02:00</td>\n",
       "    </tr>\n",
       "    <tr>\n",
       "      <th>...</th>\n",
       "      <td>...</td>\n",
       "      <td>...</td>\n",
       "      <td>...</td>\n",
       "      <td>...</td>\n",
       "    </tr>\n",
       "    <tr>\n",
       "      <th>114397</th>\n",
       "      <td>StationName144</td>\n",
       "      <td>26410</td>\n",
       "      <td>15.409</td>\n",
       "      <td>2024-10-23 18:22:16.624000+02:00</td>\n",
       "    </tr>\n",
       "    <tr>\n",
       "      <th>114398</th>\n",
       "      <td>StationName85</td>\n",
       "      <td>26207</td>\n",
       "      <td>2.188</td>\n",
       "      <td>2024-10-23 18:22:29.926000+02:00</td>\n",
       "    </tr>\n",
       "    <tr>\n",
       "      <th>114399</th>\n",
       "      <td>StationName40</td>\n",
       "      <td>26072</td>\n",
       "      <td>0.084</td>\n",
       "      <td>2024-10-23 18:22:32.147000+02:00</td>\n",
       "    </tr>\n",
       "    <tr>\n",
       "      <th>114400</th>\n",
       "      <td>StationName42</td>\n",
       "      <td>26122</td>\n",
       "      <td>0.084</td>\n",
       "      <td>2024-10-23 18:22:32.172000+02:00</td>\n",
       "    </tr>\n",
       "    <tr>\n",
       "      <th>114401</th>\n",
       "      <td>StationName29</td>\n",
       "      <td>26509</td>\n",
       "      <td>0.604</td>\n",
       "      <td>2024-10-23 18:22:31.665000+02:00</td>\n",
       "    </tr>\n",
       "  </tbody>\n",
       "</table>\n",
       "<p>114402 rows × 4 columns</p>\n",
       "</div>"
      ],
      "text/plain": [
       "           StationName  ItemNumber  ProcessTime  \\\n",
       "0         StationName6          10        0.202   \n",
       "1         StationName1           1        0.181   \n",
       "2         StationName1          14        0.130   \n",
       "3         StationName6          20        0.540   \n",
       "4         StationName9          27        0.110   \n",
       "...                ...         ...          ...   \n",
       "114397  StationName144       26410       15.409   \n",
       "114398   StationName85       26207        2.188   \n",
       "114399   StationName40       26072        0.084   \n",
       "114400   StationName42       26122        0.084   \n",
       "114401   StationName29       26509        0.604   \n",
       "\n",
       "                              TimeStamp  \n",
       "0      2024-10-23 17:19:37.111000+02:00  \n",
       "1      2024-10-23 17:19:37.079000+02:00  \n",
       "2      2024-10-23 17:19:37.079000+02:00  \n",
       "3      2024-10-23 17:19:37.111000+02:00  \n",
       "4      2024-10-23 17:19:37.637000+02:00  \n",
       "...                                 ...  \n",
       "114397 2024-10-23 18:22:16.624000+02:00  \n",
       "114398 2024-10-23 18:22:29.926000+02:00  \n",
       "114399 2024-10-23 18:22:32.147000+02:00  \n",
       "114400 2024-10-23 18:22:32.172000+02:00  \n",
       "114401 2024-10-23 18:22:31.665000+02:00  \n",
       "\n",
       "[114402 rows x 4 columns]"
      ]
     },
     "execution_count": 2,
     "metadata": {},
     "output_type": "execute_result"
    }
   ],
   "source": [
    "import pandas as pd\n",
    "\n",
    "data = pd.read_json('processtimes.json')\n",
    "data = data.drop(columns=['StationGroup', \"UnitIdType\"])\n",
    "\n",
    "data = data.rename(columns={'SerialNumber': 'ItemNumber', 'Value': 'ProcessTime'})\n",
    "data"
   ]
  },
  {
   "cell_type": "markdown",
   "metadata": {},
   "source": [
    "# Idea: Define a threshold for each machine and compare values"
   ]
  },
  {
   "cell_type": "markdown",
   "metadata": {},
   "source": [
    "## 1. Median + 1.5 * Inter Quartile Range"
   ]
  },
  {
   "cell_type": "code",
   "execution_count": 3,
   "metadata": {},
   "outputs": [],
   "source": [
    "# Method 1: Median + IQR\n",
    "def median_iqr_threshold(group):\n",
    "    Q1 = group['ProcessTime'].quantile(0.25)\n",
    "    Q3 = group['ProcessTime'].quantile(0.75)\n",
    "    IQR = Q3 - Q1\n",
    "    return group['ProcessTime'].median() + 1.5 * IQR"
   ]
  },
  {
   "cell_type": "markdown",
   "metadata": {},
   "source": [
    "## 2. Z-Score"
   ]
  },
  {
   "cell_type": "code",
   "execution_count": 4,
   "metadata": {},
   "outputs": [],
   "source": [
    "# Method 2: Z-score\n",
    "def zscore_threshold(group):\n",
    "    mean = group['ProcessTime'].mean()\n",
    "    std_dev = group['ProcessTime'].std()\n",
    "    return mean + 2 * std_dev\n"
   ]
  },
  {
   "cell_type": "markdown",
   "metadata": {},
   "source": [
    "## 3. 90th percentile"
   ]
  },
  {
   "cell_type": "code",
   "execution_count": 5,
   "metadata": {},
   "outputs": [],
   "source": [
    "# Method 3: 90th Percentile\n",
    "def percentile_threshold(group, percentile=0.9):\n",
    "    return group['ProcessTime'].quantile(percentile)\n"
   ]
  },
  {
   "cell_type": "code",
   "execution_count": 6,
   "metadata": {},
   "outputs": [],
   "source": [
    "# Calculate thresholds using functions applied per station\n",
    "def calculate_thresholds(df):\n",
    "    thresholds = {}\n",
    "\n",
    "    # Median + IQR threshold\n",
    "    df['Q1'] = df.groupby('StationName')['ProcessTime'].transform(lambda x: x.quantile(0.25))\n",
    "    df['Q3'] = df.groupby('StationName')['ProcessTime'].transform(lambda x: x.quantile(0.75))\n",
    "    df['Median'] = df.groupby('StationName')['ProcessTime'].transform('median')\n",
    "    df['IQR'] = df['Q3'] - df['Q1']\n",
    "    df['Median_IQR_Threshold'] = df['Median'] + 1.5 * df['IQR']\n",
    "    \n",
    "    # Z-score threshold\n",
    "    df['Mean'] = df.groupby('StationName')['ProcessTime'].transform('mean')\n",
    "    df['Std_Dev'] = df.groupby('StationName')['ProcessTime'].transform('std')\n",
    "    df['ZScore_Threshold'] = df['Mean'] + 2 * df['Std_Dev']\n",
    "    \n",
    "    # 90th Percentile threshold\n",
    "    df['90Percentile_Threshold'] = df.groupby('StationName')['ProcessTime'].transform(lambda x: x.quantile(0.9))\n",
    "    \n",
    "    # 25th Quantile threshold\n",
    "    df['25Percentile_Threshold'] = df.groupby('StationName')['ProcessTime'].transform(lambda x: x.quantile(0.25))\n",
    "    \n",
    "    # Create columns to label \"too long\" based on each threshold\n",
    "    df['Too_Long_Median_IQR'] = df['ProcessTime'] > df['Median_IQR_Threshold']\n",
    "    df['Too_Long_ZScore'] = df['ProcessTime'] > df['ZScore_Threshold']\n",
    "    df['Too_Long_90Percentile'] = df['ProcessTime'] > df['90Percentile_Threshold']\n",
    "    df['Too_Long_25Percentile'] = df['ProcessTime'] > df['25Percentile_Threshold']\n",
    "    \n",
    "    return df"
   ]
  },
  {
   "cell_type": "markdown",
   "metadata": {},
   "source": [
    "# Compare results\n",
    "\n",
    "In the next step, we're comparing the amount of flagged values per method and apply the two metrics \"Median Flagged Count\" and \"Standard Deviation of Flagged Counts\" to determine which method is best for the case.\n",
    "\n",
    "Median Flagged Count: Typical number of flagged events per station. Higher values mean higher sensitivity -> More flagged events\n",
    "\n",
    "Standard Deviation of Flagged Counts: High SD suggests that a method is more variable, low SD implies more consist behaviour. -> behaviour across stations"
   ]
  },
  {
   "cell_type": "code",
   "execution_count": 8,
   "metadata": {},
   "outputs": [
    {
     "name": "stdout",
     "output_type": "stream",
     "text": [
      "Summary of Flags and Thresholds per Station:\n",
      "        StationName  Median_IQR_Flagged  ZScore_Flagged  Percentile90_Flagged  \\\n",
      "0      StationName1                  87              21                    85   \n",
      "1     StationName10                 254               4                   126   \n",
      "2    StationName100                  57               9                    52   \n",
      "3    StationName101                   5               1                    18   \n",
      "4    StationName102                  34              12                    25   \n",
      "..              ...                 ...             ...                   ...   \n",
      "223   StationName95                 330              88                   203   \n",
      "224   StationName96                  24              14                    21   \n",
      "225   StationName97                  11               3                     9   \n",
      "226   StationName98                  20              11                    53   \n",
      "227   StationName99                  46              20                    25   \n",
      "\n",
      "     Percentile25_Flagged  Median_IQR_Threshold  ZScore_Threshold  \\\n",
      "0                     632              0.153000          0.325803   \n",
      "1                     943              3.703750         20.154633   \n",
      "2                     386             10.680250         10.946991   \n",
      "3                     131             11.844125         11.935644   \n",
      "4                     184              9.840500         10.550632   \n",
      "..                    ...                   ...               ...   \n",
      "223                  1493              0.815250          1.166443   \n",
      "224                   157             11.591750         11.907539   \n",
      "225                    60              0.073500          0.139086   \n",
      "226                   402              9.292000          9.432150   \n",
      "227                   185              4.238625          4.929408   \n",
      "\n",
      "     Percentile_Threshold90  Percentile_Threshold25  \n",
      "0                    0.1543                 0.10500  \n",
      "1                    4.3761                 3.47900  \n",
      "2                   10.6985                10.36300  \n",
      "3                   11.8150                11.73200  \n",
      "4                    9.9813                 9.40800  \n",
      "..                      ...                     ...  \n",
      "223                  0.8710                 0.71900  \n",
      "224                 11.6205                11.39925  \n",
      "225                  0.0890                 0.04300  \n",
      "226                  9.1300                 8.85200  \n",
      "227                  4.6831                 3.98700  \n",
      "\n",
      "[228 rows x 9 columns]\n"
     ]
    }
   ],
   "source": [
    "# Apply the threshold calculations and flagging function to the dataframe\n",
    "df = calculate_thresholds(data)\n",
    "\n",
    "# Summary: Count how often each method flags values as \"too long\" for each station\n",
    "summary = df.groupby('StationName').agg(\n",
    "    Median_IQR_Flagged=('Too_Long_Median_IQR', 'sum'),\n",
    "    ZScore_Flagged=('Too_Long_ZScore', 'sum'),\n",
    "    Percentile90_Flagged=('Too_Long_90Percentile', 'sum'),\n",
    "    Percentile25_Flagged=('Too_Long_25Percentile', 'sum'),\n",
    "    Median_IQR_Threshold=('Median_IQR_Threshold', 'mean'),\n",
    "    ZScore_Threshold=('ZScore_Threshold', 'mean'),\n",
    "    Percentile90_Threshold=('90Percentile_Threshold', 'mean'),\n",
    "    Percentile25_Threshold=('25Percentile_Threshold', 'mean')\n",
    ").reset_index()\n",
    "\n",
    "print(\"Summary of Flags and Thresholds per Station:\")\n",
    "print(summary)"
   ]
  },
  {
   "cell_type": "code",
   "execution_count": 10,
   "metadata": {},
   "outputs": [
    {
     "name": "stdout",
     "output_type": "stream",
     "text": [
      "Sensitivity Summary Across Stations:\n"
     ]
    },
    {
     "data": {
      "text/html": [
       "<div>\n",
       "<style scoped>\n",
       "    .dataframe tbody tr th:only-of-type {\n",
       "        vertical-align: middle;\n",
       "    }\n",
       "\n",
       "    .dataframe tbody tr th {\n",
       "        vertical-align: top;\n",
       "    }\n",
       "\n",
       "    .dataframe thead th {\n",
       "        text-align: right;\n",
       "    }\n",
       "</style>\n",
       "<table border=\"1\" class=\"dataframe\">\n",
       "  <thead>\n",
       "    <tr style=\"text-align: right;\">\n",
       "      <th></th>\n",
       "      <th>Method</th>\n",
       "      <th>Median_Flagged_Count</th>\n",
       "      <th>Std_Dev_Flagged_Count</th>\n",
       "    </tr>\n",
       "  </thead>\n",
       "  <tbody>\n",
       "    <tr>\n",
       "      <th>3</th>\n",
       "      <td>25th Percentile</td>\n",
       "      <td>167.5</td>\n",
       "      <td>454.312871</td>\n",
       "    </tr>\n",
       "    <tr>\n",
       "      <th>2</th>\n",
       "      <td>90th Percentile</td>\n",
       "      <td>23.0</td>\n",
       "      <td>60.373382</td>\n",
       "    </tr>\n",
       "    <tr>\n",
       "      <th>0</th>\n",
       "      <td>Median + IQR</td>\n",
       "      <td>14.5</td>\n",
       "      <td>70.466902</td>\n",
       "    </tr>\n",
       "    <tr>\n",
       "      <th>1</th>\n",
       "      <td>Z-score</td>\n",
       "      <td>5.0</td>\n",
       "      <td>28.849747</td>\n",
       "    </tr>\n",
       "  </tbody>\n",
       "</table>\n",
       "</div>"
      ],
      "text/plain": [
       "            Method  Median_Flagged_Count  Std_Dev_Flagged_Count\n",
       "3  25th Percentile                 167.5             454.312871\n",
       "2  90th Percentile                  23.0              60.373382\n",
       "0     Median + IQR                  14.5              70.466902\n",
       "1          Z-score                   5.0              28.849747"
      ]
     },
     "execution_count": 10,
     "metadata": {},
     "output_type": "execute_result"
    }
   ],
   "source": [
    "# Reusing the summary table created before\n",
    "# The summary table already has the count of flagged values per station for each method.\n",
    "\n",
    "# Calculate median and standard deviation of flagged counts across stations\n",
    "sensitivity_summary = {\n",
    "    'Method': ['Median + IQR', 'Z-score', '90th Percentile', '25th Percentile'],\n",
    "    'Median_Flagged_Count': [\n",
    "        summary['Median_IQR_Flagged'].median(),\n",
    "        summary['ZScore_Flagged'].median(),\n",
    "        summary['Percentile90_Flagged'].median(),\n",
    "        summary['Percentile25_Flagged'].median()\n",
    "    ],\n",
    "    'Std_Dev_Flagged_Count': [\n",
    "        summary['Median_IQR_Flagged'].std(),\n",
    "        summary['ZScore_Flagged'].std(),\n",
    "        summary['Percentile90_Flagged'].std(),\n",
    "        summary['Percentile25_Flagged'].std()\n",
    "    ]\n",
    "}\n",
    "\n",
    "sensitivity_summary_df = pd.DataFrame(sensitivity_summary)\n",
    "print(\"Sensitivity Summary Across Stations:\")\n",
    "sensitivity_summary_df.sort_values(by=['Median_Flagged_Count'], ascending=False)\n"
   ]
  },
  {
   "cell_type": "markdown",
   "metadata": {},
   "source": [
    "### Result interpretation:\n",
    "\n",
    "The 90th percentile method flags the most events, whereas the Z-score allows more deviation."
   ]
  },
  {
   "cell_type": "markdown",
   "metadata": {},
   "source": [
    "# 25th Percentile Comparison\n",
    "\n"
   ]
  }
 ],
 "metadata": {
  "kernelspec": {
   "display_name": "Python 3",
   "language": "python",
   "name": "python3"
  },
  "language_info": {
   "codemirror_mode": {
    "name": "ipython",
    "version": 3
   },
   "file_extension": ".py",
   "mimetype": "text/x-python",
   "name": "python",
   "nbconvert_exporter": "python",
   "pygments_lexer": "ipython3",
   "version": "3.12.2"
  }
 },
 "nbformat": 4,
 "nbformat_minor": 2
}
